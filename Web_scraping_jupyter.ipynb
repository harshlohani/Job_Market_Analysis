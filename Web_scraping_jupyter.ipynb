{
 "cells": [
  {
   "cell_type": "code",
   "execution_count": 45,
   "id": "4efa5d13",
   "metadata": {},
   "outputs": [],
   "source": [
    "#pip install webdriver-manager"
   ]
  },
  {
   "cell_type": "code",
   "execution_count": 46,
   "id": "ee43b8db",
   "metadata": {},
   "outputs": [],
   "source": [
    "import os\n",
    "from bs4 import BeautifulSoup\n",
    "import time\n",
    "from selenium import webdriver\n",
    "from selenium.webdriver.common.keys import Keys\n",
    "from selenium.webdriver.firefox.options import Options\n",
    "from webdriver_manager.firefox import GeckoDriverManager"
   ]
  },
  {
   "cell_type": "raw",
   "id": "9d8f7a4e",
   "metadata": {},
   "source": [
    "options = Options()\n",
    "options.add_argument(\"--headless\")\n",
    "driver = webdriver.Firefox(executable_path=GeckoDriverManager().install(),options=options)"
   ]
  },
  {
   "cell_type": "code",
   "execution_count": 47,
   "id": "9f82dda6",
   "metadata": {},
   "outputs": [],
   "source": [
    "#options = Options()\n",
    "#options.add_argument(\"--headless\")\n",
    "driver = webdriver.Firefox(executable_path=GeckoDriverManager().install())"
   ]
  },
  {
   "cell_type": "code",
   "execution_count": 48,
   "id": "a995b848",
   "metadata": {},
   "outputs": [],
   "source": [
    "driver.get(\"https://www.naukri.com\")"
   ]
  },
  {
   "cell_type": "code",
   "execution_count": 49,
   "id": "315d4f19",
   "metadata": {},
   "outputs": [],
   "source": [
    "#driver.get(\"https://www.glassdoor.co.in\")"
   ]
  },
  {
   "cell_type": "code",
   "execution_count": 53,
   "id": "073a4aaa",
   "metadata": {},
   "outputs": [],
   "source": [
    "click=driver.find_element_by_link_text(\"Data Science\")"
   ]
  },
  {
   "cell_type": "code",
   "execution_count": 54,
   "id": "534e8132",
   "metadata": {},
   "outputs": [],
   "source": [
    "click.click()"
   ]
  },
  {
   "cell_type": "raw",
   "id": "76878ade",
   "metadata": {},
   "source": [
    "# link_texts = [\"Analytics\", \"Data Science\"]\n",
    "\n",
    "# List to store found link elements\n",
    "found_elements = []\n",
    "\n",
    "# Iterate over the list of link texts\n",
    "for link_text in link_texts:\n",
    "    try:\n",
    "        # Find the link element by its text\n",
    "        link_element = driver.find_element_by_link_text(link_text)\n",
    "        found_elements.append(link_element)\n",
    "        print(f\"Found link with text: {link_text}\")\n",
    "    except NoSuchElementException:\n",
    "        print(f\"Link with text '{link_text}' not found\")\n",
    "\n",
    "# Now you have a list of found link elements\n",
    "print(\"Found elements:\", found_elements)"
   ]
  },
  {
   "cell_type": "code",
   "execution_count": null,
   "id": "5ad6b2ae",
   "metadata": {},
   "outputs": [],
   "source": []
  }
 ],
 "metadata": {
  "kernelspec": {
   "display_name": "Python 3 (ipykernel)",
   "language": "python",
   "name": "python3"
  },
  "language_info": {
   "codemirror_mode": {
    "name": "ipython",
    "version": 3
   },
   "file_extension": ".py",
   "mimetype": "text/x-python",
   "name": "python",
   "nbconvert_exporter": "python",
   "pygments_lexer": "ipython3",
   "version": "3.11.5"
  }
 },
 "nbformat": 4,
 "nbformat_minor": 5
}
