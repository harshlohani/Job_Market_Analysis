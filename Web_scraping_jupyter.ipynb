{
 "cells": [
  {
   "cell_type": "code",
   "execution_count": null,
   "id": "b1f906ba",
   "metadata": {},
   "outputs": [],
   "source": [
    "#pip install webdriver-manager"
   ]
  },
  {
   "cell_type": "code",
   "execution_count": 1,
   "id": "61cb2a75",
   "metadata": {},
   "outputs": [],
   "source": [
    "import os\n",
    "from bs4 import BeautifulSoup\n",
    "import time\n",
    "from selenium import webdriver\n",
    "from selenium.webdriver.common.by import By\n",
    "from selenium.webdriver.common.keys import Keys\n",
    "from selenium.webdriver.firefox.options import Options\n",
    "from selenium.webdriver.support.ui import WebDriverWait\n",
    "from selenium.webdriver.support import expected_conditions as EC\n",
    "from webdriver_manager.firefox import GeckoDriverManager"
   ]
  },
  {
   "cell_type": "raw",
   "id": "bcc141c5",
   "metadata": {},
   "source": [
    "options = Options()\n",
    "options.add_argument(\"--headless\")\n",
    "driver = webdriver.Firefox(executable_path=GeckoDriverManager().install(),options=options)"
   ]
  },
  {
   "cell_type": "code",
   "execution_count": 2,
   "id": "4e762da2",
   "metadata": {},
   "outputs": [],
   "source": [
    "#options = Options()\n",
    "#options.add_argument(\"--headless\")\n",
    "driver = webdriver.Firefox(executable_path=GeckoDriverManager().install())"
   ]
  },
  {
   "cell_type": "code",
   "execution_count": 3,
   "id": "803f3dc5",
   "metadata": {},
   "outputs": [],
   "source": [
    "driver.get(\"https://www.naukri.com\")"
   ]
  },
  {
   "cell_type": "code",
   "execution_count": 4,
   "id": "90ec44e1",
   "metadata": {},
   "outputs": [],
   "source": [
    "input_search=driver.find_element(By.XPATH, '/html/body/div[1]/div[7]/div/div/div[1]/div/div/div[1]/div[1]/div/input')\n",
    "input_search.send_keys('Data Scientist')"
   ]
  },
  {
   "cell_type": "code",
   "execution_count": 5,
   "id": "2753cf48",
   "metadata": {},
   "outputs": [],
   "source": [
    "button=driver.find_element(By.XPATH,'/html/body/div[1]/div[7]/div/div/div[6]').click()\n",
    " "
   ]
  },
  {
   "cell_type": "code",
   "execution_count": null,
   "id": "9277cc93",
   "metadata": {},
   "outputs": [],
   "source": []
  },
  {
   "cell_type": "code",
   "execution_count": null,
   "id": "662eeb03",
   "metadata": {},
   "outputs": [],
   "source": []
  },
  {
   "cell_type": "code",
   "execution_count": null,
   "id": "69c9a695",
   "metadata": {},
   "outputs": [],
   "source": [
    "#driver.get(\"https://www.glassdoor.co.in\")"
   ]
  },
  {
   "cell_type": "code",
   "execution_count": null,
   "id": "e15ccca8",
   "metadata": {},
   "outputs": [],
   "source": [
    "#link=driver.find_element_by_link_text(\"Data\"%)"
   ]
  },
  {
   "cell_type": "code",
   "execution_count": null,
   "id": "21e26cb6",
   "metadata": {},
   "outputs": [],
   "source": [
    "link=driver.find_element_by_link_text(\"Analytics\")"
   ]
  },
  {
   "cell_type": "code",
   "execution_count": null,
   "id": "67d8cf76",
   "metadata": {},
   "outputs": [],
   "source": [
    "link.click()"
   ]
  },
  {
   "cell_type": "raw",
   "id": "0e14d7ab",
   "metadata": {},
   "source": [
    "# link_texts = [\"Analytics\", \"Data Science\"]\n",
    "\n",
    "# List to store found link elements\n",
    "found_elements = []\n",
    "\n",
    "# Iterate over the list of link texts\n",
    "for link_text in link_texts:\n",
    "    try:\n",
    "        # Find the link element by its text\n",
    "        link_element = driver.find_element_by_link_text(link_text)\n",
    "        found_elements.append(link_element)\n",
    "        print(f\"Found link with text: {link_text}\")\n",
    "    except NoSuchElementException:\n",
    "        print(f\"Link with text '{link_text}' not found\")\n",
    "\n",
    "# Now you have a list of found link elements\n",
    "print(\"Found elements:\", found_elements)"
   ]
  },
  {
   "cell_type": "code",
   "execution_count": null,
   "id": "93ca30c7",
   "metadata": {},
   "outputs": [],
   "source": [
    "def scrape_glassdoor_jobs(keyword, num_pages, verbose=False):\n",
    "    for page_num in range(num_pages): #This line starts a loop that iterates through a range of page numbers, where num_pages is the total number of pages to scrape.\n",
    "        if verbose:      #If the verbose flag is set to True, it prints a message indicating which page is currently being scraped.\n",
    "                print(f\"Scraping page {page_num + 1} of {num_pages}\")\n",
    "        try:\n",
    "            element = WebDriverWait(driver, 10).until(\n",
    "            EC.presence_of_all_elements_located((By.CSS_SELECTOR, ['data-job-id']))\n",
    "            )\n",
    "            job_ids = [element.get_attribute(\"data-job-id\") for element in element]\n",
    "            print(job_ids)  # You can use job_ids for further processing\n",
    "            #element.click()\n",
    "        except:\n",
    "            driver.quit()"
   ]
  },
  {
   "cell_type": "code",
   "execution_count": null,
   "id": "93279aab",
   "metadata": {},
   "outputs": [],
   "source": [
    "if __name__ == \"__main__\":\n",
    "    # Replace with your desired arguments\n",
    "    keyword = \"Analytics\"\n",
    "    num_pages = 5\n",
    "    #path_to_chromedriver = \"/path/to/chromedriver\"  # Replace with your path\n",
    "\n",
    "    job_ids = scrape_glassdoor_jobs(keyword, num_pages, verbose=True)\n",
    "    print(job_ids)"
   ]
  },
  {
   "cell_type": "code",
   "execution_count": null,
   "id": "7733622e",
   "metadata": {},
   "outputs": [],
   "source": []
  },
  {
   "cell_type": "code",
   "execution_count": null,
   "id": "18917adf",
   "metadata": {},
   "outputs": [],
   "source": []
  }
 ],
 "metadata": {
  "kernelspec": {
   "display_name": "Python 3 (ipykernel)",
   "language": "python",
   "name": "python3"
  },
  "language_info": {
   "codemirror_mode": {
    "name": "ipython",
    "version": 3
   },
   "file_extension": ".py",
   "mimetype": "text/x-python",
   "name": "python",
   "nbconvert_exporter": "python",
   "pygments_lexer": "ipython3",
   "version": "3.11.5"
  }
 },
 "nbformat": 4,
 "nbformat_minor": 5
}
